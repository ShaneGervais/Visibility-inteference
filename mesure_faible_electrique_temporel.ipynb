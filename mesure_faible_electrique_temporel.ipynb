{
 "cells": [
  {
   "attachments": {},
   "cell_type": "markdown",
   "metadata": {},
   "source": [
    "Calcul analytique de la partie réel et imaginaire de la valeur faible d'un systèm d'optique quantique.\n",
    "\n",
    "\n",
    "Le système contient un laser pulsé avec un profil gaussien temporel qui est préparé avec une lame demi onde et quart d'onde. L'impulsion subit une mesure faible sur sa partie horizontale de l'état de polarisation presenté par un décalage temporel. Ensuite,  l'impulsion est projecter avec l'état de polairsation diagonale."
   ]
  },
  {
   "cell_type": "code",
   "execution_count": 426,
   "metadata": {},
   "outputs": [
    {
     "name": "stdout",
     "output_type": "stream",
     "text": [
      "IPython console for SymPy 1.11.1 (Python 3.11.3-64-bit) (ground types: python)\n",
      "\n",
      "These commands were executed:\n",
      ">>> from sympy import *\n",
      ">>> x, y, z, t = symbols('x y z t')\n",
      ">>> k, m, n = symbols('k m n', integer=True)\n",
      ">>> f, g, h = symbols('f g h', cls=Function)\n",
      ">>> init_printing()\n",
      "\n",
      "Documentation can be found at https://docs.sympy.org/1.11.1/\n",
      "\n"
     ]
    }
   ],
   "source": [
    "#sympy pour effectuer les calcules\n",
    "import sympy as smp\n",
    "from IPython.display import display, Math\n",
    "smp.init_session()"
   ]
  },
  {
   "cell_type": "code",
   "execution_count": 427,
   "metadata": {},
   "outputs": [],
   "source": [
    "a = smp.symbols('a', real=False, complex = True)\n",
    "t = smp.symbols('t', real=True)\n",
    "o = smp.symbols(r'\\sigma', real=True, positive = True)\n",
    "b = smp.symbols('b', real=False, complex = True)\n",
    "d = smp.symbols(r'\\delta', real=True)\n",
    "z = smp.symbols('z', real=True)\n",
    "k = smp.symbols('k', real=True, positive=True)\n",
    "w = smp.symbols(r'\\omega', real=True, positive=True)\n",
    "tau = smp.symbols(r'\\tau', real=True)\n",
    "c = smp.symbols('c', real=True, positive=True, constant=True)"
   ]
  },
  {
   "cell_type": "code",
   "execution_count": 428,
   "metadata": {},
   "outputs": [
    {
     "data": {
      "text/latex": [
       "$\\displaystyle A(t) = \\frac{2^{\\frac{3}{4}} e^{- \\frac{\\left(t - \\frac{z}{c}\\right)^{2}}{4 \\sigma^{2}}}}{2 \\sqrt[4]{\\pi} \\sqrt{\\sigma}}$"
      ],
      "text/plain": [
       "<IPython.core.display.Math object>"
      ]
     },
     "metadata": {},
     "output_type": "display_data"
    },
    {
     "data": {
      "text/latex": [
       "$\\displaystyle |\\xi(z,t)> = \\frac{2^{\\frac{3}{4}} e^{i \\left(- \\omega t + k z\\right)} e^{- \\frac{\\left(t - \\frac{z}{c}\\right)^{2}}{4 \\sigma^{2}}}}{2 \\sqrt[4]{\\pi} \\sqrt{\\sigma}}$"
      ],
      "text/plain": [
       "<IPython.core.display.Math object>"
      ]
     },
     "metadata": {},
     "output_type": "display_data"
    },
    {
     "data": {
      "text/latex": [
       "$\\displaystyle |\\varphi(\\theta, \\phi)> = a |H> + b |V>$"
      ],
      "text/plain": [
       "<IPython.core.display.Math object>"
      ]
     },
     "metadata": {},
     "output_type": "display_data"
    },
    {
     "data": {
      "text/latex": [
       "$\\displaystyle |E(z,t)> = |\\varphi(\\theta, \\phi)> \\otimes |\\xi(z,t)>$"
      ],
      "text/plain": [
       "<IPython.core.display.Math object>"
      ]
     },
     "metadata": {},
     "output_type": "display_data"
    }
   ],
   "source": [
    "#Fonction gaussien\n",
    "A = (smp.sqrt(1/((smp.sqrt(2*smp.pi))*o)))*smp.exp(-((t-z/c)**2)/(4*o**2))\n",
    "display(Math('A(t) = '+smp.latex(A)))\n",
    "\n",
    "xi = A*smp.exp(smp.I*(k*z - w*t))\n",
    "display(Math(r'|\\xi(z,t)> = '+smp.latex(xi)))\n",
    "\n",
    "#intiallement\n",
    "phi = a + b\n",
    "H = smp.symbols('|H>')\n",
    "V = smp.symbols('|V>')\n",
    "display(Math(r'|\\varphi(\\theta, \\phi)> = ' +smp.latex(a*H + b*V)))\n",
    "display(Math(r'|E(z,t)> = |\\varphi(\\theta, \\phi)> \\otimes |\\xi(z,t)>'))"
   ]
  },
  {
   "cell_type": "code",
   "execution_count": 429,
   "metadata": {},
   "outputs": [
    {
     "data": {
      "text/latex": [
       "$\\displaystyle |\\xi_{f}(z,t+\\tau)> = \\frac{2^{\\frac{3}{4}} e^{i \\left(- \\omega \\left(\\tau + t\\right) + k z\\right)} e^{- \\frac{\\left(\\tau + t - \\frac{z}{c}\\right)^{2}}{4 \\sigma^{2}}}}{2 \\sqrt[4]{\\pi} \\sqrt{\\sigma}}$"
      ],
      "text/plain": [
       "<IPython.core.display.Math object>"
      ]
     },
     "metadata": {},
     "output_type": "display_data"
    }
   ],
   "source": [
    "#decalage (mesure faible) sur H\n",
    "A_f = (smp.sqrt(1/((smp.sqrt(2*smp.pi))*o)))*smp.exp(-((t+tau-z/c)**2)/(4*o**2))\n",
    "xi_f = A_f*smp.exp(smp.I*(k*z - w*(t+tau)))\n",
    "display(Math(r'|\\xi_{f}(z,t+\\tau)> = ' +smp.latex(xi_f)))"
   ]
  },
  {
   "attachments": {},
   "cell_type": "markdown",
   "metadata": {},
   "source": [
    "Ici nous effectuons notre procédure de caractérsation faible et pusique trouver l'expression du opérateur d'intéraction"
   ]
  },
  {
   "cell_type": "code",
   "execution_count": 430,
   "metadata": {},
   "outputs": [
    {
     "data": {
      "text/latex": [
       "$\\displaystyle |E_{i}(z,t)> = \\frac{2^{\\frac{3}{4}} \\left(a + b\\right) e^{i \\left(- \\omega t + k z\\right)} e^{- \\frac{\\left(t - \\frac{z}{c}\\right)^{2}}{4 \\sigma^{2}}}}{2 \\sqrt[4]{\\pi} \\sqrt{\\sigma}}$"
      ],
      "text/plain": [
       "<IPython.core.display.Math object>"
      ]
     },
     "metadata": {},
     "output_type": "display_data"
    },
    {
     "data": {
      "text/latex": [
       "$\\displaystyle |E_{1}(z,t+\\tau)> = \\frac{2^{\\frac{3}{4}} a e^{i \\left(- \\omega \\left(\\tau + t\\right) + k z\\right)} e^{- \\frac{\\left(\\tau + t - \\frac{z}{c}\\right)^{2}}{4 \\sigma^{2}}}}{2 \\sqrt[4]{\\pi} \\sqrt{\\sigma}}$"
      ],
      "text/plain": [
       "<IPython.core.display.Math object>"
      ]
     },
     "metadata": {},
     "output_type": "display_data"
    },
    {
     "data": {
      "text/latex": [
       "$\\displaystyle |E_{2}(z,t)> = \\frac{2^{\\frac{3}{4}} b e^{i \\left(- \\omega t + k z\\right)} e^{- \\frac{\\left(t - \\frac{z}{c}\\right)^{2}}{4 \\sigma^{2}}}}{2 \\sqrt[4]{\\pi} \\sqrt{\\sigma}}$"
      ],
      "text/plain": [
       "<IPython.core.display.Math object>"
      ]
     },
     "metadata": {},
     "output_type": "display_data"
    },
    {
     "data": {
      "text/latex": [
       "$\\displaystyle \\frac{2^{\\frac{3}{4}} \\hat{U} a e^{i \\left(- \\omega t + k z\\right)} e^{- \\frac{\\left(t - \\frac{z}{c}\\right)^{2}}{4 \\sigma^{2}}}}{2 \\sqrt[4]{\\pi} \\sqrt{\\sigma}} = \\frac{2^{\\frac{3}{4}} a e^{i \\left(- \\omega \\left(\\tau + t\\right) + k z\\right)} e^{- \\frac{\\left(\\tau + t - \\frac{z}{c}\\right)^{2}}{4 \\sigma^{2}}}}{2 \\sqrt[4]{\\pi} \\sqrt{\\sigma}}$"
      ],
      "text/plain": [
       "<IPython.core.display.Math object>"
      ]
     },
     "metadata": {},
     "output_type": "display_data"
    },
    {
     "data": {
      "text/latex": [
       "$\\displaystyle \\hat{U} = e^{\\frac{- 4 i \\omega \\sigma^{2} \\tau c^{2} + \\left(c t - z\\right)^{2} - \\left(c \\left(\\tau + t\\right) - z\\right)^{2}}{4 \\sigma^{2} c^{2}}}$"
      ],
      "text/plain": [
       "<IPython.core.display.Math object>"
      ]
     },
     "metadata": {},
     "output_type": "display_data"
    },
    {
     "data": {
      "text/latex": [
       "$\\displaystyle |E_{f}(z,t)> = <D|\\hat{U}|E_{i}(z,t)> = \\frac{\\sqrt{2} \\cdot \\left(\\frac{2^{\\frac{3}{4}} a e^{i \\left(- \\omega \\left(\\tau + t\\right) + k z\\right)} e^{- \\frac{\\left(\\tau + t - \\frac{z}{c}\\right)^{2}}{4 \\sigma^{2}}}}{2 \\sqrt[4]{\\pi} \\sqrt{\\sigma}} + \\frac{2^{\\frac{3}{4}} b e^{i \\left(- \\omega t + k z\\right)} e^{- \\frac{\\left(t - \\frac{z}{c}\\right)^{2}}{4 \\sigma^{2}}}}{2 \\sqrt[4]{\\pi} \\sqrt{\\sigma}}\\right)}{2}$"
      ],
      "text/plain": [
       "<IPython.core.display.Math object>"
      ]
     },
     "metadata": {},
     "output_type": "display_data"
    }
   ],
   "source": [
    "#champ total initial\n",
    "E_i = xi*phi\n",
    "display(Math(r'|E_{i}(z,t)> = '+smp.latex(E_i)))\n",
    "\n",
    "#PBS\n",
    "#effectue une mesure faible sur la partie horizontale de la polarisation\n",
    "E_1 = xi_f*a #celui faible\n",
    "E_2 = xi*b\n",
    "display(Math(r'|E_{1}(z,t+\\tau)> = '+smp.latex(E_1)))\n",
    "display(Math(r'|E_{2}(z,t)> = '+smp.latex(E_2)))\n",
    "\n",
    "#résourd l'opérateur d'interaction\n",
    "U = smp.symbols(r'\\hat{U}')\n",
    "eq1 = smp.Eq(U*xi*a, xi_f*a)\n",
    "display(Math(smp.latex(eq1)))\n",
    "eq2 = smp.solve(eq1, U)\n",
    "U = eq2[0].simplify()\n",
    "display(Math(r'\\hat{U} = ' + smp.latex(U)))\n",
    "\n",
    "#postselection sur D = 1/sqrt(2)*(H_faible + V)\n",
    "E_w = ((1/smp.sqrt(2))*(E_1 + E_2))\n",
    "#mesure faible sur H\n",
    "display(Math(r'|E_{f}(z,t)> = <D|\\hat{U}|E_{i}(z,t)> = ' + smp.latex(E_w)))\n"
   ]
  },
  {
   "cell_type": "code",
   "execution_count": 431,
   "metadata": {},
   "outputs": [
    {
     "data": {
      "text/latex": [
       "$\\displaystyle I(z,t) = \\frac{\\sqrt{2} e^{\\frac{- c^{2} \\left(\\tau^{2} + 2 \\tau t + t^{2}\\right) + 2 c z \\left(\\tau + t\\right) - z^{2}}{2 \\sigma^{2} c^{2}}} \\left|{a}\\right|^{2}}{2 \\sqrt{\\pi} \\sigma}$"
      ],
      "text/plain": [
       "<IPython.core.display.Math object>"
      ]
     },
     "metadata": {},
     "output_type": "display_data"
    },
    {
     "data": {
      "text/latex": [
       "$\\displaystyle I(z,t) = \\frac{\\sqrt{2} e^{\\frac{- c^{2} t^{2} + 2 c t z - z^{2}}{2 \\sigma^{2} c^{2}}} \\left|{b}\\right|^{2}}{2 \\sqrt{\\pi} \\sigma}$"
      ],
      "text/plain": [
       "<IPython.core.display.Math object>"
      ]
     },
     "metadata": {},
     "output_type": "display_data"
    },
    {
     "data": {
      "text/latex": [
       "$\\displaystyle I(z,t) = \\frac{e^{\\frac{- c^{2} t^{2} + 2 c t z - z^{2}}{2 \\sigma^{2} c^{2}}} \\left|{b}\\right|^{2} + e^{\\frac{- c^{2} \\left(\\tau^{2} + 2 \\tau t + t^{2}\\right) + 2 c z \\left(\\tau + t\\right) - z^{2}}{2 \\sigma^{2} c^{2}}} \\left|{a}\\right|^{2}}{2 \\sqrt{\\pi} \\sigma}$"
      ],
      "text/plain": [
       "<IPython.core.display.Math object>"
      ]
     },
     "metadata": {},
     "output_type": "display_data"
    },
    {
     "data": {
      "text/latex": [
       "$\\displaystyle I(z,t) = \\frac{\\left(e^{\\frac{\\tau \\left(- \\frac{\\tau}{2} - t + \\frac{z}{c}\\right)}{\\sigma^{2}}} \\left|{a}\\right|^{2} - \\left|{b}\\right|^{2}\\right) e^{\\frac{- \\frac{t^{2}}{2} + \\frac{t z}{c} - \\frac{z^{2}}{2 c^{2}}}{\\sigma^{2}}}}{2 \\sqrt{\\pi} \\sigma}$"
      ],
      "text/plain": [
       "<IPython.core.display.Math object>"
      ]
     },
     "metadata": {},
     "output_type": "display_data"
    }
   ],
   "source": [
    "#T = smp.symbols('T', real=True)\n",
    "#I_i = smp.re(smp.integrate(smp.conjugate(E_i)*E_i, (t, -T, T)))\n",
    "#I = smp.Abs((1/smp.sqrt(2))*E_i)**2\n",
    "#I_i = smp.re(smp.integrate(I, (t, -tau/2, tau/2)))\n",
    "#display(Math('I_{i}(z,t) = ' + smp.latex(I_i)))\n",
    "\n",
    "I_11 = smp.conjugate(E_1)*E_1\n",
    "I_22 = smp.conjugate(E_2)*E_2\n",
    "I_max = (1/smp.sqrt(2))*(I_11+I_22)\n",
    "display(Math('I(z,t) = ' + smp.latex((smp.re(I_11)).simplify())))\n",
    "display(Math('I(z,t) = ' + smp.latex((smp.re(I_22)).simplify())))\n",
    "display(Math('I(z,t) = ' + smp.latex((smp.re(I_max)).simplify())))\n",
    "\n",
    "I_min = (1/smp.sqrt(2))*(I_11-I_22)\n",
    "display(Math('I(z,t) = ' + smp.latex((smp.re(I_min)).simplify())))\n",
    "\n",
    "#I_f = smp.re(smp.integrate(smp.conjugate(E_w)*E_w, (t, -t, t)))\n",
    "#I_w = (1/smp.sqrt(2))*smp.conjugate(E_i)*E_w\n",
    "#I_f = smp.re(smp.integrate(I_w, (t, -smp.oo, smp.oo)))\n",
    "#display(Math('I_{f}(z,t) = ' + smp.latex(I_f.simplify())))\n",
    "\n",
    "#I_limit = I_f.subs(smp.exp(-(tau**2)/(8*o**2)), 1)\n",
    "#display(Math(r'\\lim_{e^{\\frac{-\\delta^{2}}{8\\sigma^{2}}} \\to 1} \\langle \\hat{I} \\rangle= ' +smp.latex(I_limit.simplify())))"
   ]
  },
  {
   "cell_type": "code",
   "execution_count": 432,
   "metadata": {},
   "outputs": [
    {
     "data": {
      "text/latex": [
       "$\\displaystyle V = e^{\\frac{\\tau \\left(\\frac{\\tau}{2} + t - \\frac{z}{c}\\right)}{\\sigma^{2}}} \\tan^{2}{\\left(\\theta \\right)}$"
      ],
      "text/plain": [
       "<IPython.core.display.Math object>"
      ]
     },
     "metadata": {},
     "output_type": "display_data"
    }
   ],
   "source": [
    "theta = smp.symbols(r'\\theta', real=True)\n",
    "v = (I_max - I_min)/(I_max + I_min)\n",
    "display(Math('V = '+smp.latex(v.simplify().subs(a, smp.cos(theta)).subs(b, smp.sin(theta)).trigsimp())))\n"
   ]
  },
  {
   "attachments": {},
   "cell_type": "markdown",
   "metadata": {},
   "source": [
    "Trouvons la partie réel de la valeur faible"
   ]
  },
  {
   "cell_type": "code",
   "execution_count": 433,
   "metadata": {},
   "outputs": [
    {
     "data": {
      "text/latex": [
       "$\\displaystyle \\langle \\hat{T} \\rangle= <E_{f}(z,t)|\\hat{t}|E_{f}(z,t)> =- \\frac{\\tau a e^{- i \\omega \\tau - \\frac{\\tau^{2}}{8 \\sigma^{2}}} \\overline{b}}{4} - \\frac{\\tau a \\overline{a}}{2} - \\frac{\\tau b e^{i \\omega \\tau - \\frac{\\tau^{2}}{8 \\sigma^{2}}} \\overline{a}}{4} + \\frac{a z e^{- i \\omega \\tau - \\frac{\\tau^{2}}{8 \\sigma^{2}}} \\overline{b}}{2 c} + \\frac{a z \\overline{a}}{2 c} + \\frac{b z e^{i \\omega \\tau - \\frac{\\tau^{2}}{8 \\sigma^{2}}} \\overline{a}}{2 c} + \\frac{b z \\overline{b}}{2 c}$"
      ],
      "text/plain": [
       "<IPython.core.display.Math object>"
      ]
     },
     "metadata": {},
     "output_type": "display_data"
    },
    {
     "data": {
      "text/latex": [
       "$\\displaystyle \\lim_{e^{\\frac{-\\delta^{2}}{8\\sigma^{2}}} \\to 1} \\langle \\hat{T} \\rangle= \\frac{\\left(- \\tau a c \\overline{b} - \\tau c \\left(2 a + b e^{i \\omega \\tau}\\right) e^{i \\omega \\tau} \\overline{a} + 2 a z \\overline{b} + 2 z \\left(a \\overline{a} + b e^{i \\omega \\tau} \\overline{a} + b \\overline{b}\\right) e^{i \\omega \\tau}\\right) e^{- i \\omega \\tau}}{4 c}$"
      ],
      "text/plain": [
       "<IPython.core.display.Math object>"
      ]
     },
     "metadata": {},
     "output_type": "display_data"
    }
   ],
   "source": [
    "t_moy = (smp.integrate(smp.conjugate(E_w)*t*E_w, (t, -smp.oo, smp.oo))).simplify()\n",
    "display(Math(r'\\langle \\hat{T} \\rangle= <E_{f}(z,t)|\\hat{t}|E_{f}(z,t)> =' +smp.latex(t_moy)))\n",
    "\n",
    "t_moy_limit = t_moy.subs(smp.exp((-tau**2)/(8*o**2)), 1)\n",
    "display(Math(r'\\lim_{e^{\\frac{-\\delta^{2}}{8\\sigma^{2}}} \\to 1} \\langle \\hat{T} \\rangle= ' +smp.latex(t_moy_limit.simplify())))"
   ]
  },
  {
   "attachments": {},
   "cell_type": "markdown",
   "metadata": {},
   "source": [
    "Trouvons le G_1"
   ]
  },
  {
   "cell_type": "code",
   "execution_count": 434,
   "metadata": {},
   "outputs": [
    {
     "data": {
      "text/latex": [
       "$\\displaystyle G(\\tau) = a e^{- \\tau \\left(i \\omega + \\frac{\\tau}{8 \\sigma^{2}}\\right)} \\overline{b}$"
      ],
      "text/plain": [
       "<IPython.core.display.Math object>"
      ]
     },
     "metadata": {},
     "output_type": "display_data"
    },
    {
     "data": {
      "text/latex": [
       "$\\displaystyle G(0) = b \\overline{b}$"
      ],
      "text/plain": [
       "<IPython.core.display.Math object>"
      ]
     },
     "metadata": {},
     "output_type": "display_data"
    },
    {
     "data": {
      "text/latex": [
       "$\\displaystyle g^{(1)}(\\tau) = \\frac{a e^{- \\tau \\left(i \\omega + \\frac{\\tau}{8 \\sigma^{2}}\\right)}}{b}$"
      ],
      "text/plain": [
       "<IPython.core.display.Math object>"
      ]
     },
     "metadata": {},
     "output_type": "display_data"
    }
   ],
   "source": [
    "G_1_TAU = (smp.integrate(smp.conjugate(E_2)*E_1, (t, -smp.oo, smp.oo))).simplify()\n",
    "display(Math(r'G(\\tau) = ' + smp.latex(G_1_TAU)))\n",
    "G_1_ZERO = smp.integrate(smp.conjugate(E_2)*E_2, (t, -smp.oo, smp.oo))\n",
    "display(Math(r'G(0) = ' + smp.latex(G_1_ZERO.simplify())))\n",
    "\n",
    "g_1 = (G_1_TAU/G_1_ZERO).simplify()\n",
    "display(Math(r'g^{(1)}(\\tau) = ' + smp.latex(g_1)))"
   ]
  },
  {
   "attachments": {},
   "cell_type": "markdown",
   "metadata": {},
   "source": [
    "La temps de cohérence"
   ]
  },
  {
   "cell_type": "code",
   "execution_count": 435,
   "metadata": {},
   "outputs": [
    {
     "data": {
      "text/latex": [
       "$\\displaystyle \\tau_c = \\frac{2 \\sqrt{\\pi} \\sigma a \\overline{a}}{b \\overline{b}}$"
      ],
      "text/plain": [
       "<IPython.core.display.Math object>"
      ]
     },
     "metadata": {},
     "output_type": "display_data"
    }
   ],
   "source": [
    "tau_c = smp.integrate((smp.conjugate(g_1)*g_1), (tau, -smp.oo, smp.oo))\n",
    "display(Math(r'\\tau_c = ' + smp.latex(tau_c)))"
   ]
  },
  {
   "attachments": {},
   "cell_type": "markdown",
   "metadata": {},
   "source": [
    "Ici nous allons trouvons la partie imaginaire de la valeur faible avec le power spectrum et la fonction de transformation de fourier."
   ]
  },
  {
   "cell_type": "code",
   "execution_count": 436,
   "metadata": {},
   "outputs": [
    {
     "data": {
      "text/latex": [
       "$\\displaystyle S(f) = 2 \\sqrt{2} \\sqrt{\\pi} \\sigma a e^{- 32 \\pi^{2} \\sigma^{2} f^{2}} \\overline{b}$"
      ],
      "text/plain": [
       "<IPython.core.display.Math object>"
      ]
     },
     "metadata": {},
     "output_type": "display_data"
    }
   ],
   "source": [
    "f = smp.symbols('f', real=True, constante=True, positive=True)\n",
    "G_1_TAU=G_1_TAU.subs(w, 2*smp.pi*f)\n",
    "#using the autocorrelation function\n",
    "S = (smp.integrate(G_1_TAU*smp.exp(-smp.I*2*smp.pi*f*tau), (tau, -smp.oo, smp.oo))).simplify()\n",
    "display(Math(r'S(f) = ' + smp.latex(S)))"
   ]
  },
  {
   "cell_type": "code",
   "execution_count": 437,
   "metadata": {},
   "outputs": [
    {
     "data": {
      "text/latex": [
       "$\\displaystyle \\Delta f = \\frac{1}{8 \\sqrt{\\pi} \\sigma}$"
      ],
      "text/plain": [
       "<IPython.core.display.Math object>"
      ]
     },
     "metadata": {},
     "output_type": "display_data"
    }
   ],
   "source": [
    "df = (((smp.integrate(S, (f, 0, smp.oo)))**2)/(smp.integrate(S**2, (f, 0, smp.oo)))).simplify()\n",
    "display(Math(r'\\Delta f = ' + smp.latex(df.simplify())))"
   ]
  },
  {
   "cell_type": "code",
   "execution_count": 438,
   "metadata": {},
   "outputs": [
    {
     "data": {
      "text/latex": [
       "$\\displaystyle I_s = \\frac{\\operatorname{re}{\\left(a \\overline{b}\\right)}}{4}$"
      ],
      "text/plain": [
       "<IPython.core.display.Math object>"
      ]
     },
     "metadata": {},
     "output_type": "display_data"
    }
   ],
   "source": [
    "I_s = smp.re(smp.integrate(S, (f, 0, smp.oo)))\n",
    "display(Math(r'I_s = ' + smp.latex(I_s.simplify())))"
   ]
  },
  {
   "cell_type": "code",
   "execution_count": 439,
   "metadata": {},
   "outputs": [
    {
     "data": {
      "text/latex": [
       "$\\displaystyle <\\hat{\\Omega}> = <S(\\omega)|\\hat{\\omega}|S(\\omega)> =\\frac{a b \\overline{a} \\overline{b}}{16 \\pi}$"
      ],
      "text/plain": [
       "<IPython.core.display.Math object>"
      ]
     },
     "metadata": {},
     "output_type": "display_data"
    }
   ],
   "source": [
    "w_moy = (smp.integrate(smp.conjugate(S)*f*S, (f, 0, smp.oo))).simplify()\n",
    "display(Math(r'<\\hat{\\Omega}> = <S(\\omega)|\\hat{\\omega}|S(\\omega)> =' +smp.latex(w_moy)))"
   ]
  },
  {
   "cell_type": "code",
   "execution_count": 440,
   "metadata": {},
   "outputs": [
    {
     "data": {
      "text/latex": [
       "$\\displaystyle F(\\omega) = \\frac{\\sqrt{2} \\sigma a}{\\sqrt{\\pi} b}$"
      ],
      "text/plain": [
       "<IPython.core.display.Math object>"
      ]
     },
     "metadata": {},
     "output_type": "display_data"
    }
   ],
   "source": [
    "F_w = (1/(2*smp.pi)*smp.integrate(g_1*smp.exp(smp.I*w*tau), (tau, -smp.oo, smp.oo))).simplify()\n",
    "display(Math(r'F(\\omega) = ' + smp.latex(F_w)))"
   ]
  },
  {
   "cell_type": "code",
   "execution_count": 441,
   "metadata": {},
   "outputs": [
    {
     "data": {
      "text/latex": [
       "$\\displaystyle <\\hat{\\Omega}> = <F(\\omega)|\\hat{\\omega}|F(\\omega)> =\\begin{cases} \\text{NaN} & \\text{for}\\: \\frac{a \\overline{a}}{b \\overline{b}} = 0 \\\\\\frac{\\infty a \\overline{a}}{b \\overline{b} \\left|{\\frac{a \\overline{a}}{b \\overline{b}}}\\right|} & \\text{otherwise} \\end{cases}$"
      ],
      "text/plain": [
       "<IPython.core.display.Math object>"
      ]
     },
     "metadata": {},
     "output_type": "display_data"
    }
   ],
   "source": [
    "w_moy = (smp.integrate(smp.conjugate(F_w)*w*F_w, (w, 0, smp.oo))).simplify()\n",
    "display(Math(r'<\\hat{\\Omega}> = <F(\\omega)|\\hat{\\omega}|F(\\omega)> =' +smp.latex(w_moy)))"
   ]
  },
  {
   "cell_type": "code",
   "execution_count": null,
   "metadata": {},
   "outputs": [],
   "source": []
  }
 ],
 "metadata": {
  "kernelspec": {
   "display_name": "Python 3",
   "language": "python",
   "name": "python3"
  },
  "language_info": {
   "codemirror_mode": {
    "name": "ipython",
    "version": 3
   },
   "file_extension": ".py",
   "mimetype": "text/x-python",
   "name": "python",
   "nbconvert_exporter": "python",
   "pygments_lexer": "ipython3",
   "version": "3.11.3"
  },
  "orig_nbformat": 4
 },
 "nbformat": 4,
 "nbformat_minor": 2
}
