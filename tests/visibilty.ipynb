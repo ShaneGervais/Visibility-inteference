{
 "cells": [
  {
   "cell_type": "code",
   "execution_count": 6,
   "metadata": {},
   "outputs": [
    {
     "name": "stdout",
     "output_type": "stream",
     "text": [
      "IPython console for SymPy 1.11.1 (Python 3.11.3-64-bit) (ground types: python)\n",
      "\n",
      "These commands were executed:\n",
      ">>> from sympy import *\n",
      ">>> x, y, z, t = symbols('x y z t')\n",
      ">>> k, m, n = symbols('k m n', integer=True)\n",
      ">>> f, g, h = symbols('f g h', cls=Function)\n",
      ">>> init_printing()\n",
      "\n",
      "Documentation can be found at https://docs.sympy.org/1.11.1/\n",
      "\n"
     ]
    }
   ],
   "source": [
    "#sympy pour effectuer les calcules\n",
    "import sympy as smp\n",
    "from IPython.display import display, Math\n",
    "smp.init_session()"
   ]
  },
  {
   "cell_type": "code",
   "execution_count": 7,
   "metadata": {},
   "outputs": [],
   "source": [
    "a = smp.symbols('a', real=False, complex = True)\n",
    "b = smp.symbols('b', real=False, complex = True)\n",
    "u = smp.symbols(r'\\mu', real=False, complex = True)\n",
    "v = smp.symbols(r'\\nu', real=False, complex = True)\n",
    "t = smp.symbols('t', real=True)\n",
    "o = smp.symbols(r'\\sigma', real=True, positive = True)\n",
    "d = smp.symbols(r'\\delta', real=True)\n",
    "z = smp.symbols('z', real=True)\n",
    "k = smp.symbols('k', real=True, positive=True)\n",
    "w_0 = smp.symbols(r'\\omega', real=True, positive=True)\n",
    "tau = smp.symbols(r'\\tau', real=True)\n",
    "theta = smp.symbols(r'\\theta', real=True, positive=True)\n",
    "theta_p = smp.symbols(r'\\theta^{*}', real=True, positive=True)\n",
    "phi_x_p = smp.symbols(r'\\phi_{x}^{*}', real=True)\n",
    "phi_x = smp.symbols(r'\\phi_x', real=True)\n",
    "phi_y_p = smp.symbols(r'\\phi_{y}^{*}', real=True)\n",
    "phi_y = smp.symbols(r'\\phi_y', real=True)\n",
    "c = smp.symbols('c', real=True, positive=True, constant=True)\n",
    "U = smp.symbols(r'\\hat{U}')\n",
    "E_0 = smp.symbols('E_0', real=True)"
   ]
  },
  {
   "cell_type": "code",
   "execution_count": 8,
   "metadata": {},
   "outputs": [
    {
     "data": {
      "text/latex": [
       "$\\displaystyle E(z,t)=\\frac{2^{\\frac{3}{4}} e^{i \\left(- \\omega t + k z\\right)} e^{- \\frac{\\left(t - \\frac{z}{c}\\right)^{2}}{4 \\sigma^{2}}}}{2 \\sqrt[4]{\\pi} \\sqrt{\\sigma}}$"
      ],
      "text/plain": [
       "<IPython.core.display.Math object>"
      ]
     },
     "metadata": {},
     "output_type": "display_data"
    },
    {
     "data": {
      "text/latex": [
       "$\\displaystyle E(z,t+\\tau) = \\frac{\\sqrt[4]{2} \\left(e^{i \\left(- \\omega t + k z\\right)} + e^{i \\left(- \\omega t + \\tau + k z\\right)}\\right) e^{- \\frac{\\left(\\tau + t - \\frac{z}{c}\\right)^{2}}{4 \\sigma^{2}}}}{2 \\sqrt[4]{\\pi} \\sqrt{\\sigma}}$"
      ],
      "text/plain": [
       "<IPython.core.display.Math object>"
      ]
     },
     "metadata": {},
     "output_type": "display_data"
    },
    {
     "data": {
      "text/latex": [
       "$\\displaystyle \\frac{2^{\\frac{3}{4}} \\hat{U} e^{i \\left(- \\omega t + k z\\right)} e^{- \\frac{\\left(t - \\frac{z}{c}\\right)^{2}}{4 \\sigma^{2}}}}{2 \\sqrt[4]{\\pi} \\sqrt{\\sigma}} = \\frac{\\sqrt[4]{2} \\left(e^{i \\left(- \\omega t + k z\\right)} + e^{i \\left(- \\omega t + \\tau + k z\\right)}\\right) e^{- \\frac{\\left(\\tau + t - \\frac{z}{c}\\right)^{2}}{4 \\sigma^{2}}}}{2 \\sqrt[4]{\\pi} \\sqrt{\\sigma}}$"
      ],
      "text/plain": [
       "<IPython.core.display.Math object>"
      ]
     },
     "metadata": {},
     "output_type": "display_data"
    },
    {
     "data": {
      "text/latex": [
       "$\\displaystyle \\hat{U} = \\frac{\\sqrt{2} \\left(e^{i \\tau} + 1\\right) e^{- \\frac{\\tau \\left(c \\left(\\tau + 2 t\\right) - 2 z\\right)}{4 \\sigma^{2} c}}}{2}$"
      ],
      "text/plain": [
       "<IPython.core.display.Math object>"
      ]
     },
     "metadata": {},
     "output_type": "display_data"
    },
    {
     "data": {
      "text/latex": [
       "$\\displaystyle E_{1}(t+\\tau) = \\hat{U}E_{1}(t) = \\frac{\\sqrt[4]{2} \\left(e^{i \\tau} + 1\\right) e^{- \\frac{\\tau^{2}}{4 \\sigma^{2}}} e^{- \\frac{t^{2}}{4 \\sigma^{2}}} e^{- i \\omega t} e^{i k z} e^{- \\frac{\\tau t}{2 \\sigma^{2}}} e^{- \\frac{z^{2}}{4 \\sigma^{2} c^{2}}} e^{\\frac{\\tau z}{2 \\sigma^{2} c}} e^{\\frac{t z}{2 \\sigma^{2} c}}}{2 \\sqrt[4]{\\pi} \\sqrt{\\sigma}}$"
      ],
      "text/plain": [
       "<IPython.core.display.Math object>"
      ]
     },
     "metadata": {},
     "output_type": "display_data"
    },
    {
     "data": {
      "text/latex": [
       "$\\displaystyle \\delta(t) = \\frac{i \\left(4 \\sigma^{2} c \\log{\\left(e^{i \\tau} + 1 \\right)} - 2 \\sigma^{2} c \\log{\\left(2 \\right)} - \\tau^{2} c - 2 \\tau c t + 2 \\tau z\\right)}{4 \\sigma^{2} c}$"
      ],
      "text/plain": [
       "<IPython.core.display.Math object>"
      ]
     },
     "metadata": {},
     "output_type": "display_data"
    }
   ],
   "source": [
    "E_0 = (smp.sqrt(1/((smp.sqrt(2*smp.pi))*o)))*smp.exp(-((t-z/c)**2)/(4*o**2))\n",
    "E_0t = (smp.sqrt(1/((smp.sqrt(2*smp.pi))*o)))*smp.exp(-((t+tau-z/c)**2)/(4*o**2))\n",
    "\n",
    "xi = E_0*smp.exp(smp.I*(k*z - w_0*t))\n",
    "display(Math(r'E(z,t)='+smp.latex(xi)))\n",
    "xi_f = (E_0t/smp.sqrt(2))*(smp.exp(smp.I*(k*z - w_0*t))+smp.exp(smp.I*(k*z - w_0*t+tau)))\n",
    "display(Math(r'E(z,t+\\tau) = ' + smp.latex(xi_f)))\n",
    "#U = smp.exp(-smp.I*d)\n",
    "eq1 = smp.Eq(U*xi, xi_f)\n",
    "display(Math(smp.latex(eq1)))\n",
    "eq2 = smp.solve(eq1, U)\n",
    "U = eq2[0].simplify()\n",
    "display(Math(r'\\hat{U} = ' + smp.latex(U)))\n",
    "\n",
    "E_tau = (U*xi).simplify().factor()\n",
    "display(Math(r'E_{1}(t+\\tau) = \\hat{U}E_{1}(t) = ' + smp.latex(E_tau)))\n",
    "\n",
    "delta = ((smp.ln(U))/(-smp.I)).simplify().expand().factor()\n",
    "display(Math(r'\\delta(t) = ' + smp.latex(delta)))"
   ]
  },
  {
   "cell_type": "code",
   "execution_count": 9,
   "metadata": {},
   "outputs": [
    {
     "data": {
      "text/latex": [
       "$\\displaystyle I(z,t)=1$"
      ],
      "text/plain": [
       "<IPython.core.display.Math object>"
      ]
     },
     "metadata": {},
     "output_type": "display_data"
    },
    {
     "data": {
      "text/latex": [
       "$\\displaystyle I(z,t) = \\frac{\\sqrt{2} \\left(e^{i \\tau} + 1\\right)^{2} e^{- i \\tau - \\frac{\\tau^{2}}{2 \\sigma^{2}} - \\frac{\\tau t}{\\sigma^{2}} + \\frac{\\tau z}{\\sigma^{2} c} - \\frac{t^{2}}{2 \\sigma^{2}} + \\frac{t z}{\\sigma^{2} c} - \\frac{z^{2}}{2 \\sigma^{2} c^{2}}}}{4 \\sqrt{\\pi} \\sigma}$"
      ],
      "text/plain": [
       "<IPython.core.display.Math object>"
      ]
     },
     "metadata": {},
     "output_type": "display_data"
    },
    {
     "data": {
      "text/latex": [
       "$\\displaystyle I(z,t)=\\cos{\\left(\\tau \\right)} + 1$"
      ],
      "text/plain": [
       "<IPython.core.display.Math object>"
      ]
     },
     "metadata": {},
     "output_type": "display_data"
    }
   ],
   "source": [
    "I_0 = smp.integrate(smp.conjugate(xi)*xi, (t, -smp.oo, smp.oo))\n",
    "display(Math('I(z,t)='+smp.latex(I_0)))\n",
    "I = smp.conjugate(E_tau)*E_tau\n",
    "display(Math('I(z,t) = ' + smp.latex(I.simplify())))\n",
    "I_f = smp.integrate(smp.conjugate(E_tau)*E_tau, (t, -smp.oo, smp.oo))\n",
    "display(Math('I(z,t)='+smp.latex(I_f.simplify())))"
   ]
  },
  {
   "cell_type": "code",
   "execution_count": 10,
   "metadata": {},
   "outputs": [
    {
     "data": {
      "text/latex": [
       "$\\displaystyle A(t) = \\frac{2^{\\frac{3}{4}} e^{- \\frac{\\left(t - \\frac{z}{c}\\right)^{2}}{4 \\sigma^{2}}}}{2 \\sqrt[4]{\\pi} \\sqrt{\\sigma}}$"
      ],
      "text/plain": [
       "<IPython.core.display.Math object>"
      ]
     },
     "metadata": {},
     "output_type": "display_data"
    },
    {
     "data": {
      "text/latex": [
       "$\\displaystyle |\\xi(z,t)> = \\frac{2^{\\frac{3}{4}} e^{i \\left(- \\omega t + k z\\right)} e^{- \\frac{\\left(t - \\frac{z}{c}\\right)^{2}}{4 \\sigma^{2}}}}{2 \\sqrt[4]{\\pi} \\sqrt{\\sigma}}$"
      ],
      "text/plain": [
       "<IPython.core.display.Math object>"
      ]
     },
     "metadata": {},
     "output_type": "display_data"
    },
    {
     "data": {
      "text/latex": [
       "$\\displaystyle |\\varphi(\\theta, \\phi)> = a |H> + b |V>$"
      ],
      "text/plain": [
       "<IPython.core.display.Math object>"
      ]
     },
     "metadata": {},
     "output_type": "display_data"
    },
    {
     "data": {
      "text/latex": [
       "$\\displaystyle |E(z,t)> = |\\varphi(\\theta, \\phi)> \\otimes |\\xi(z,t)>$"
      ],
      "text/plain": [
       "<IPython.core.display.Math object>"
      ]
     },
     "metadata": {},
     "output_type": "display_data"
    }
   ],
   "source": [
    "#a = smp.cos(theta)*smp.exp(smp.I*phi_x)\n",
    "#b = smp.sin(theta)*smp.exp(smp.I*phi_y)\n",
    "#u = smp.cos(theta_p)*smp.exp(smp.I*phi_x_p)\n",
    "#v = smp.sin(theta_p)*smp.exp(smp.I*phi_y_p)\n",
    "\n",
    "#Fonction gaussien\n",
    "A_t = (smp.sqrt(1/((smp.sqrt(2*smp.pi))*o)))*smp.exp(-((t-z/c)**2)/(4*o**2))\n",
    "display(Math('A(t) = '+smp.latex(A_t)))\n",
    "\n",
    "xi = A_t*smp.exp(smp.I*(k*z - w_0*t))\n",
    "display(Math(r'|\\xi(z,t)> = '+smp.latex(xi)))\n",
    "\n",
    "#intiallement\n",
    "phi = a + b\n",
    "H = smp.symbols('|H>')\n",
    "V = smp.symbols('|V>')\n",
    "display(Math(r'|\\varphi(\\theta, \\phi)> = ' +smp.latex(a*H + b*V)))\n",
    "display(Math(r'|E(z,t)> = |\\varphi(\\theta, \\phi)> \\otimes |\\xi(z,t)>'))"
   ]
  },
  {
   "cell_type": "code",
   "execution_count": null,
   "metadata": {},
   "outputs": [],
   "source": []
  }
 ],
 "metadata": {
  "kernelspec": {
   "display_name": "Python 3",
   "language": "python",
   "name": "python3"
  },
  "language_info": {
   "codemirror_mode": {
    "name": "ipython",
    "version": 3
   },
   "file_extension": ".py",
   "mimetype": "text/x-python",
   "name": "python",
   "nbconvert_exporter": "python",
   "pygments_lexer": "ipython3",
   "version": "3.11.3"
  },
  "orig_nbformat": 4
 },
 "nbformat": 4,
 "nbformat_minor": 2
}
